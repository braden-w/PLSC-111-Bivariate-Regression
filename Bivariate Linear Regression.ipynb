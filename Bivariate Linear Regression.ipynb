{
 "cells": [
  {
   "cell_type": "code",
   "execution_count": 1,
   "metadata": {},
   "outputs": [
    {
     "ename": "ImportError",
     "evalue": "matplotlib is required for plotting when the default backend \"matplotlib\" is selected.",
     "output_type": "error",
     "traceback": [
      "\u001b[0;31m---------------------------------------------------------------------------\u001b[0m",
      "\u001b[0;31mImportError\u001b[0m                               Traceback (most recent call last)",
      "\u001b[1;32m/Users/braden/Downloads/PLSC 111 Bivariate Regression/Bivariate Linear Regression.ipynb Cell 1'\u001b[0m in \u001b[0;36m<cell line: 8>\u001b[0;34m()\u001b[0m\n\u001b[1;32m      <a href='vscode-notebook-cell:/Users/braden/Downloads/PLSC%20111%20Bivariate%20Regression/Bivariate%20Linear%20Regression.ipynb#ch0000000?line=4'>5</a>\u001b[0m df \u001b[39m=\u001b[39m pd\u001b[39m.\u001b[39mread_csv(\u001b[39m'\u001b[39m\u001b[39mfdi_data.csv\u001b[39m\u001b[39m'\u001b[39m)\n\u001b[1;32m      <a href='vscode-notebook-cell:/Users/braden/Downloads/PLSC%20111%20Bivariate%20Regression/Bivariate%20Linear%20Regression.ipynb#ch0000000?line=6'>7</a>\u001b[0m \u001b[39m# Run a bivariate linear regression on the dataframe df for variables \"fdi_per_gdp\" and \"ka_open\"\u001b[39;00m\n\u001b[0;32m----> <a href='vscode-notebook-cell:/Users/braden/Downloads/PLSC%20111%20Bivariate%20Regression/Bivariate%20Linear%20Regression.ipynb#ch0000000?line=7'>8</a>\u001b[0m df\u001b[39m.\u001b[39;49mplot\u001b[39m.\u001b[39;49mscatter(x\u001b[39m=\u001b[39;49m\u001b[39m'\u001b[39;49m\u001b[39mfdi_per_gdp\u001b[39;49m\u001b[39m'\u001b[39;49m, y\u001b[39m=\u001b[39;49m\u001b[39m'\u001b[39;49m\u001b[39mka_open\u001b[39;49m\u001b[39m'\u001b[39;49m)\n",
      "File \u001b[0;32m/usr/local/lib/python3.9/site-packages/pandas/plotting/_core.py:1669\u001b[0m, in \u001b[0;36mPlotAccessor.scatter\u001b[0;34m(self, x, y, s, c, **kwargs)\u001b[0m\n\u001b[1;32m   <a href='file:///usr/local/lib/python3.9/site-packages/pandas/plotting/_core.py?line=1585'>1586</a>\u001b[0m \u001b[39mdef\u001b[39;00m \u001b[39mscatter\u001b[39m(\u001b[39mself\u001b[39m, x, y, s\u001b[39m=\u001b[39m\u001b[39mNone\u001b[39;00m, c\u001b[39m=\u001b[39m\u001b[39mNone\u001b[39;00m, \u001b[39m*\u001b[39m\u001b[39m*\u001b[39mkwargs):\n\u001b[1;32m   <a href='file:///usr/local/lib/python3.9/site-packages/pandas/plotting/_core.py?line=1586'>1587</a>\u001b[0m     \u001b[39m\"\"\"\u001b[39;00m\n\u001b[1;32m   <a href='file:///usr/local/lib/python3.9/site-packages/pandas/plotting/_core.py?line=1587'>1588</a>\u001b[0m \u001b[39m    Create a scatter plot with varying marker point size and color.\u001b[39;00m\n\u001b[1;32m   <a href='file:///usr/local/lib/python3.9/site-packages/pandas/plotting/_core.py?line=1588'>1589</a>\u001b[0m \n\u001b[0;32m   (...)\u001b[0m\n\u001b[1;32m   <a href='file:///usr/local/lib/python3.9/site-packages/pandas/plotting/_core.py?line=1666'>1667</a>\u001b[0m \u001b[39m        ...                       colormap='viridis')\u001b[39;00m\n\u001b[1;32m   <a href='file:///usr/local/lib/python3.9/site-packages/pandas/plotting/_core.py?line=1667'>1668</a>\u001b[0m \u001b[39m    \"\"\"\u001b[39;00m\n\u001b[0;32m-> <a href='file:///usr/local/lib/python3.9/site-packages/pandas/plotting/_core.py?line=1668'>1669</a>\u001b[0m     \u001b[39mreturn\u001b[39;00m \u001b[39mself\u001b[39;49m(kind\u001b[39m=\u001b[39;49m\u001b[39m\"\u001b[39;49m\u001b[39mscatter\u001b[39;49m\u001b[39m\"\u001b[39;49m, x\u001b[39m=\u001b[39;49mx, y\u001b[39m=\u001b[39;49my, s\u001b[39m=\u001b[39;49ms, c\u001b[39m=\u001b[39;49mc, \u001b[39m*\u001b[39;49m\u001b[39m*\u001b[39;49mkwargs)\n",
      "File \u001b[0;32m/usr/local/lib/python3.9/site-packages/pandas/plotting/_core.py:892\u001b[0m, in \u001b[0;36mPlotAccessor.__call__\u001b[0;34m(self, *args, **kwargs)\u001b[0m\n\u001b[1;32m    <a href='file:///usr/local/lib/python3.9/site-packages/pandas/plotting/_core.py?line=890'>891</a>\u001b[0m \u001b[39mdef\u001b[39;00m \u001b[39m__call__\u001b[39m(\u001b[39mself\u001b[39m, \u001b[39m*\u001b[39margs, \u001b[39m*\u001b[39m\u001b[39m*\u001b[39mkwargs):\n\u001b[0;32m--> <a href='file:///usr/local/lib/python3.9/site-packages/pandas/plotting/_core.py?line=891'>892</a>\u001b[0m     plot_backend \u001b[39m=\u001b[39m _get_plot_backend(kwargs\u001b[39m.\u001b[39;49mpop(\u001b[39m\"\u001b[39;49m\u001b[39mbackend\u001b[39;49m\u001b[39m\"\u001b[39;49m, \u001b[39mNone\u001b[39;49;00m))\n\u001b[1;32m    <a href='file:///usr/local/lib/python3.9/site-packages/pandas/plotting/_core.py?line=893'>894</a>\u001b[0m     x, y, kind, kwargs \u001b[39m=\u001b[39m \u001b[39mself\u001b[39m\u001b[39m.\u001b[39m_get_call_args(\n\u001b[1;32m    <a href='file:///usr/local/lib/python3.9/site-packages/pandas/plotting/_core.py?line=894'>895</a>\u001b[0m         plot_backend\u001b[39m.\u001b[39m\u001b[39m__name__\u001b[39m, \u001b[39mself\u001b[39m\u001b[39m.\u001b[39m_parent, args, kwargs\n\u001b[1;32m    <a href='file:///usr/local/lib/python3.9/site-packages/pandas/plotting/_core.py?line=895'>896</a>\u001b[0m     )\n\u001b[1;32m    <a href='file:///usr/local/lib/python3.9/site-packages/pandas/plotting/_core.py?line=897'>898</a>\u001b[0m     kind \u001b[39m=\u001b[39m \u001b[39mself\u001b[39m\u001b[39m.\u001b[39m_kind_aliases\u001b[39m.\u001b[39mget(kind, kind)\n",
      "File \u001b[0;32m/usr/local/lib/python3.9/site-packages/pandas/plotting/_core.py:1849\u001b[0m, in \u001b[0;36m_get_plot_backend\u001b[0;34m(backend)\u001b[0m\n\u001b[1;32m   <a href='file:///usr/local/lib/python3.9/site-packages/pandas/plotting/_core.py?line=1845'>1846</a>\u001b[0m \u001b[39mif\u001b[39;00m backend \u001b[39min\u001b[39;00m _backends:\n\u001b[1;32m   <a href='file:///usr/local/lib/python3.9/site-packages/pandas/plotting/_core.py?line=1846'>1847</a>\u001b[0m     \u001b[39mreturn\u001b[39;00m _backends[backend]\n\u001b[0;32m-> <a href='file:///usr/local/lib/python3.9/site-packages/pandas/plotting/_core.py?line=1848'>1849</a>\u001b[0m module \u001b[39m=\u001b[39m _load_backend(backend)\n\u001b[1;32m   <a href='file:///usr/local/lib/python3.9/site-packages/pandas/plotting/_core.py?line=1849'>1850</a>\u001b[0m _backends[backend] \u001b[39m=\u001b[39m module\n\u001b[1;32m   <a href='file:///usr/local/lib/python3.9/site-packages/pandas/plotting/_core.py?line=1850'>1851</a>\u001b[0m \u001b[39mreturn\u001b[39;00m module\n",
      "File \u001b[0;32m/usr/local/lib/python3.9/site-packages/pandas/plotting/_core.py:1787\u001b[0m, in \u001b[0;36m_load_backend\u001b[0;34m(backend)\u001b[0m\n\u001b[1;32m   <a href='file:///usr/local/lib/python3.9/site-packages/pandas/plotting/_core.py?line=1784'>1785</a>\u001b[0m         module \u001b[39m=\u001b[39m importlib\u001b[39m.\u001b[39mimport_module(\u001b[39m\"\u001b[39m\u001b[39mpandas.plotting._matplotlib\u001b[39m\u001b[39m\"\u001b[39m)\n\u001b[1;32m   <a href='file:///usr/local/lib/python3.9/site-packages/pandas/plotting/_core.py?line=1785'>1786</a>\u001b[0m     \u001b[39mexcept\u001b[39;00m \u001b[39mImportError\u001b[39;00m:\n\u001b[0;32m-> <a href='file:///usr/local/lib/python3.9/site-packages/pandas/plotting/_core.py?line=1786'>1787</a>\u001b[0m         \u001b[39mraise\u001b[39;00m \u001b[39mImportError\u001b[39;00m(\n\u001b[1;32m   <a href='file:///usr/local/lib/python3.9/site-packages/pandas/plotting/_core.py?line=1787'>1788</a>\u001b[0m             \u001b[39m\"\u001b[39m\u001b[39mmatplotlib is required for plotting when the \u001b[39m\u001b[39m\"\u001b[39m\n\u001b[1;32m   <a href='file:///usr/local/lib/python3.9/site-packages/pandas/plotting/_core.py?line=1788'>1789</a>\u001b[0m             \u001b[39m'\u001b[39m\u001b[39mdefault backend \u001b[39m\u001b[39m\"\u001b[39m\u001b[39mmatplotlib\u001b[39m\u001b[39m\"\u001b[39m\u001b[39m is selected.\u001b[39m\u001b[39m'\u001b[39m\n\u001b[1;32m   <a href='file:///usr/local/lib/python3.9/site-packages/pandas/plotting/_core.py?line=1789'>1790</a>\u001b[0m         ) \u001b[39mfrom\u001b[39;00m \u001b[39mNone\u001b[39m\n\u001b[1;32m   <a href='file:///usr/local/lib/python3.9/site-packages/pandas/plotting/_core.py?line=1790'>1791</a>\u001b[0m     \u001b[39mreturn\u001b[39;00m module\n\u001b[1;32m   <a href='file:///usr/local/lib/python3.9/site-packages/pandas/plotting/_core.py?line=1792'>1793</a>\u001b[0m found_backend \u001b[39m=\u001b[39m \u001b[39mFalse\u001b[39;00m\n",
      "\u001b[0;31mImportError\u001b[0m: matplotlib is required for plotting when the default backend \"matplotlib\" is selected."
     ]
    }
   ],
   "source": [
    "# Import pandas as pd\n",
    "import pandas as pd\n",
    "\n",
    "# Import fdi_data.csv to a dataframe df\n",
    "df = pd.read_csv('fdi_data.csv')\n",
    "\n",
    "# Run a bivariate linear regression on the dataframe df for variables \"fdi_per_gdp\" and \"ka_open\"\n",
    "df.plot.scatter(x='fdi_per_gdp', y='ka_open')"
   ]
  }
 ],
 "metadata": {
  "interpreter": {
   "hash": "aee8b7b246df8f9039afb4144a1f6fd8d2ca17a180786b69acc140d282b71a49"
  },
  "kernelspec": {
   "display_name": "Python 3.9.10 64-bit",
   "language": "python",
   "name": "python3"
  },
  "language_info": {
   "codemirror_mode": {
    "name": "ipython",
    "version": 3
   },
   "file_extension": ".py",
   "mimetype": "text/x-python",
   "name": "python",
   "nbconvert_exporter": "python",
   "pygments_lexer": "ipython3",
   "version": "3.9.10"
  },
  "orig_nbformat": 4
 },
 "nbformat": 4,
 "nbformat_minor": 2
}
